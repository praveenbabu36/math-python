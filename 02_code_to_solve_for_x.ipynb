{
  "nbformat": 4,
  "nbformat_minor": 0,
  "metadata": {
    "colab": {
      "provenance": [],
      "include_colab_link": true
    },
    "kernelspec": {
      "name": "python3",
      "display_name": "Python 3"
    },
    "language_info": {
      "name": "python"
    }
  },
  "cells": [
    {
      "cell_type": "markdown",
      "metadata": {
        "id": "view-in-github",
        "colab_type": "text"
      },
      "source": [
        "<a href=\"https://colab.research.google.com/github/praveenbabu36/math-python/blob/main/02_code_to_solve_for_x.ipynb\" target=\"_parent\"><img src=\"https://colab.research.google.com/assets/colab-badge.svg\" alt=\"Open In Colab\"/></a>"
      ]
    },
    {
      "cell_type": "markdown",
      "source": [
        "Solving for x. The variable `eq` is the equation set equal to zero. This will print an array of solutions."
      ],
      "metadata": {
        "id": "9IAp4XVs3eNW"
      }
    },
    {
      "cell_type": "code",
      "execution_count": 5,
      "metadata": {
        "id": "x2tNfcmT3T8F",
        "colab": {
          "base_uri": "https://localhost:8080/"
        },
        "outputId": "2ff98f0b-07fa-432e-c011-035340467450"
      },
      "outputs": [
        {
          "output_type": "stream",
          "name": "stdout",
          "text": [
            "x =  [0]\n"
          ]
        }
      ],
      "source": [
        "import sympy\n",
        "from sympy import symbols\n",
        "from sympy.solvers import solve\n",
        "\n",
        "x = symbols('x')\n",
        "\n",
        "# Put the equation here\n",
        "eq = 4*x - 6*x\n",
        "\n",
        "print(\"x = \", solve(eq,x))\n",
        "\n"
      ]
    },
    {
      "cell_type": "code",
      "source": [
        "# Put the equation here\n",
        "eq = x**2 - 4\n",
        "\n",
        "print(\"x = \", solve(eq,x))"
      ],
      "metadata": {
        "colab": {
          "base_uri": "https://localhost:8080/"
        },
        "id": "FTzMRnOD8Xzo",
        "outputId": "e4346ec0-c06a-4852-face-46238e5aa4d3"
      },
      "execution_count": 8,
      "outputs": [
        {
          "output_type": "stream",
          "name": "stdout",
          "text": [
            "x =  [-2, 2]\n"
          ]
        }
      ]
    },
    {
      "cell_type": "code",
      "source": [
        "# Put the equation here\n",
        "eq = 2*x - 4\n",
        "\n",
        "print(\"x = \", solve(eq,x))"
      ],
      "metadata": {
        "id": "NWSbM1W34Hdl",
        "colab": {
          "base_uri": "https://localhost:8080/"
        },
        "outputId": "a62c30fd-28d5-4022-c267-c9214e041d5d"
      },
      "execution_count": 9,
      "outputs": [
        {
          "output_type": "stream",
          "name": "stdout",
          "text": [
            "x =  [2]\n"
          ]
        }
      ]
    }
  ]
}