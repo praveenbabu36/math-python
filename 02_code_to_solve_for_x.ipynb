{
  "nbformat": 4,
  "nbformat_minor": 0,
  "metadata": {
    "colab": {
      "provenance": [],
      "include_colab_link": true
    },
    "kernelspec": {
      "name": "python3",
      "display_name": "Python 3"
    },
    "language_info": {
      "name": "python"
    }
  },
  "cells": [
    {
      "cell_type": "markdown",
      "metadata": {
        "id": "view-in-github",
        "colab_type": "text"
      },
      "source": [
        "<a href=\"https://colab.research.google.com/github/praveenbabu36/math-python/blob/main/02_code_to_solve_for_x.ipynb\" target=\"_parent\"><img src=\"https://colab.research.google.com/assets/colab-badge.svg\" alt=\"Open In Colab\"/></a>"
      ]
    },
    {
      "cell_type": "markdown",
      "source": [
        "Solving for x. The variable `eq` is the equation set equal to zero. This will print an array of solutions."
      ],
      "metadata": {
        "id": "9IAp4XVs3eNW"
      }
    },
    {
      "cell_type": "code",
      "execution_count": 3,
      "metadata": {
        "id": "x2tNfcmT3T8F",
        "colab": {
          "base_uri": "https://localhost:8080/"
        },
        "outputId": "5c7821b3-5a46-4cf4-b1f6-0acb24ffbda4"
      },
      "outputs": [
        {
          "output_type": "stream",
          "name": "stdout",
          "text": [
            "x =  [3/4]\n"
          ]
        }
      ],
      "source": [
        "import sympy\n",
        "from sympy import symbols\n",
        "from sympy.solvers import solve\n",
        "\n",
        "x = symbols('x')\n",
        "\n",
        "# Put the equation here\n",
        "eq = 4*x - 3\n",
        "\n",
        "print(\"x = \", solve(eq,x))\n",
        "\n"
      ]
    },
    {
      "cell_type": "code",
      "source": [],
      "metadata": {
        "id": "NWSbM1W34Hdl"
      },
      "execution_count": null,
      "outputs": []
    }
  ]
}