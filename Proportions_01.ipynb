{
  "nbformat": 4,
  "nbformat_minor": 0,
  "metadata": {
    "colab": {
      "provenance": [],
      "authorship_tag": "ABX9TyO4j2G9XpZ0TJmVM0G/N1Ve"
    },
    "kernelspec": {
      "name": "python3",
      "display_name": "Python 3"
    },
    "language_info": {
      "name": "python"
    }
  },
  "cells": [
    {
      "cell_type": "markdown",
      "source": [
        "## Proportions"
      ],
      "metadata": {
        "id": "4WC33jCUfQ7m"
      }
    },
    {
      "cell_type": "markdown",
      "source": [
        "Set up a proportion:\n",
        "\n",
        "$\n",
        "\\frac{n1}{d1} = \\frac{n2}{d2}\n",
        "$\n",
        "\n",
        "\n"
      ],
      "metadata": {
        "id": "eZK5zm1Eg3gN"
      }
    },
    {
      "cell_type": "code",
      "execution_count": null,
      "metadata": {
        "colab": {
          "base_uri": "https://localhost:8080/"
        },
        "id": "_0uQtMzxfNjb",
        "outputId": "17d9c3e8-dcaf-474d-cb5d-57ce01f9202d"
      },
      "outputs": [
        {
          "output_type": "stream",
          "name": "stdout",
          "text": [
            "n2 =  8.0\n"
          ]
        }
      ],
      "source": [
        "# Put a zero in for the unknown value\n",
        "\n",
        "n1 = 1\n",
        "d1 = 2\n",
        "n2 = 0\n",
        "d2 = 16\n",
        "\n",
        "if n2==0:\n",
        "  answer =  (n1 * d2) / d1\n",
        "  print(\"n2 = \", answer)\n",
        "\n",
        "\n",
        "if d2==0:\n",
        "  answer = (n2 * d1) / n1\n",
        "  print(\"d2 = \", answer)"
      ]
    },
    {
      "cell_type": "code",
      "source": [],
      "metadata": {
        "id": "YeZrm41EkyRV"
      },
      "execution_count": null,
      "outputs": []
    }
  ]
}