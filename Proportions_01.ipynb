{
  "nbformat": 4,
  "nbformat_minor": 0,
  "metadata": {
    "colab": {
      "provenance": [],
      "authorship_tag": "ABX9TyPNw93ke1+In6ozBZFDlitn"
    },
    "kernelspec": {
      "name": "python3",
      "display_name": "Python 3"
    },
    "language_info": {
      "name": "python"
    }
  },
  "cells": [
    {
      "cell_type": "markdown",
      "source": [
        "## Proportions"
      ],
      "metadata": {
        "id": "4WC33jCUfQ7m"
      }
    },
    {
      "cell_type": "markdown",
      "source": [
        "Set up a proportion:\n",
        "\n",
        "$\n",
        "\\frac{n1}{d1} = \\frac{n2}{d2}\n",
        "$\n",
        "\n",
        "\n"
      ],
      "metadata": {
        "id": "eZK5zm1Eg3gN"
      }
    },
    {
      "cell_type": "code",
      "execution_count": null,
      "metadata": {
        "colab": {
          "base_uri": "https://localhost:8080/"
        },
        "id": "_0uQtMzxfNjb",
        "outputId": "eec2146c-3e37-43fc-fac1-bc2c56c371b8"
      },
      "outputs": [
        {
          "output_type": "stream",
          "name": "stdout",
          "text": [
            "n2 =  8.0\n"
          ]
        }
      ],
      "source": [
        "# Put a zero in for the unknown value\n",
        "\n",
        "n1 = 1\n",
        "d1 = 2\n",
        "n2 = 0\n",
        "d2 = 16\n",
        "\n",
        "if n2==0:\n",
        "  answer =  (n1 * d2) / d1\n",
        "  print(\"n2 = \", answer)\n",
        "\n",
        "\n",
        "if d2==0:\n",
        "  answer = (n2 * d1) / n1\n",
        "  print(\"d2 = \", answer)"
      ]
    },
    {
      "cell_type": "markdown",
      "source": [
        "## Extra Problems"
      ],
      "metadata": {
        "id": "6oHB4Xv3w0e4"
      }
    },
    {
      "cell_type": "markdown",
      "source": [
        "$\n",
        "1\\frac{2}{3} + 3\\frac{4}{5}-7\n",
        "$"
      ],
      "metadata": {
        "id": "2KdTpeDIxd4K"
      }
    },
    {
      "cell_type": "code",
      "source": [
        "x = (1 + 2/3 + 3 + 4/5 - 7)\n",
        "print(x)"
      ],
      "metadata": {
        "id": "YeZrm41EkyRV",
        "colab": {
          "base_uri": "https://localhost:8080/"
        },
        "outputId": "e1934507-630b-4794-bed9-922b995c222d"
      },
      "execution_count": 3,
      "outputs": [
        {
          "output_type": "stream",
          "name": "stdout",
          "text": [
            "-1.533333333333334\n"
          ]
        }
      ]
    },
    {
      "cell_type": "code",
      "source": [
        "print(1 + 2/3 + 3 + 4/5 - 7)"
      ],
      "metadata": {
        "colab": {
          "base_uri": "https://localhost:8080/"
        },
        "id": "-KUDsrdwxw1l",
        "outputId": "46a884e1-4b24-44ba-a9af-307436c87054"
      },
      "execution_count": 4,
      "outputs": [
        {
          "output_type": "stream",
          "name": "stdout",
          "text": [
            "-1.533333333333334\n"
          ]
        }
      ]
    },
    {
      "cell_type": "code",
      "source": [
        "print(2/3)"
      ],
      "metadata": {
        "colab": {
          "base_uri": "https://localhost:8080/"
        },
        "id": "TfyLPh6syAco",
        "outputId": "5eb9c5c2-cadb-4d91-ff1f-ac167cdd17c5"
      },
      "execution_count": 5,
      "outputs": [
        {
          "output_type": "stream",
          "name": "stdout",
          "text": [
            "0.6666666666666666\n"
          ]
        }
      ]
    },
    {
      "cell_type": "code",
      "source": [],
      "metadata": {
        "id": "_T-u_EnzyBjD"
      },
      "execution_count": null,
      "outputs": []
    },
    {
      "cell_type": "markdown",
      "source": [
        "## Currency Problems\n",
        "\n",
        "$\n",
        "\\frac{1 us}{1.29 CaN} = \\frac{x}{1 CaN}\n",
        "$\n",
        "\n",
        "find x ? ( What is the US dollar equivalent of 1 CaN dollar)"
      ],
      "metadata": {
        "id": "0Fi5nTejzgXr"
      }
    },
    {
      "cell_type": "code",
      "source": [
        "x = 1 / 1.29\n",
        "print(x)"
      ],
      "metadata": {
        "colab": {
          "base_uri": "https://localhost:8080/"
        },
        "id": "lEWdbOxizi5y",
        "outputId": "819defbb-fea3-4023-d6ef-dd03e4e18a7b"
      },
      "execution_count": 6,
      "outputs": [
        {
          "output_type": "stream",
          "name": "stdout",
          "text": [
            "0.7751937984496123\n"
          ]
        }
      ]
    },
    {
      "cell_type": "code",
      "source": [],
      "metadata": {
        "id": "jgsMoy5r0JEZ"
      },
      "execution_count": null,
      "outputs": []
    }
  ]
}