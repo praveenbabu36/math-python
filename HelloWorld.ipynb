{
  "nbformat": 4,
  "nbformat_minor": 0,
  "metadata": {
    "colab": {
      "provenance": [],
      "toc_visible": true,
      "authorship_tag": "ABX9TyMds3TSkGjMKK57Da4GijA9"
    },
    "kernelspec": {
      "name": "python3",
      "display_name": "Python 3"
    },
    "language_info": {
      "name": "python"
    }
  },
  "cells": [
    {
      "cell_type": "code",
      "execution_count": null,
      "metadata": {
        "colab": {
          "base_uri": "https://localhost:8080/"
        },
        "id": "q93WxvyXT2Vy",
        "outputId": "58eb9f58-c4e7-4bab-f962-9cb4f483ac83"
      },
      "outputs": [
        {
          "output_type": "stream",
          "name": "stdout",
          "text": [
            "Hello World\n"
          ]
        }
      ],
      "source": [
        "print('Hello World')"
      ]
    },
    {
      "cell_type": "code",
      "source": [
        "print(3+4)"
      ],
      "metadata": {
        "id": "mNzHkRDbUFOM",
        "colab": {
          "base_uri": "https://localhost:8080/"
        },
        "outputId": "264837e7-b3e2-422c-f1f5-e4c0caa46cf6"
      },
      "execution_count": 1,
      "outputs": [
        {
          "output_type": "stream",
          "name": "stdout",
          "text": [
            "7\n"
          ]
        }
      ]
    },
    {
      "cell_type": "code",
      "source": [],
      "metadata": {
        "id": "chzE1ssna_y4"
      },
      "execution_count": null,
      "outputs": []
    },
    {
      "cell_type": "markdown",
      "source": [
        "Test Text 1"
      ],
      "metadata": {
        "id": "k82gqV0rbQyj"
      }
    },
    {
      "cell_type": "markdown",
      "source": [
        "Text Section 1"
      ],
      "metadata": {
        "id": "_4htmhCJbSua"
      }
    },
    {
      "cell_type": "markdown",
      "source": [
        "# Text Section 2"
      ],
      "metadata": {
        "id": "M7DzDsc6bBed"
      }
    },
    {
      "cell_type": "code",
      "source": [],
      "metadata": {
        "id": "eF1SMaN0ZwY1"
      },
      "execution_count": null,
      "outputs": []
    },
    {
      "cell_type": "markdown",
      "source": [
        "## **Praveen**"
      ],
      "metadata": {
        "id": "aP7sCCdAbGyz"
      }
    },
    {
      "cell_type": "markdown",
      "source": [
        "\n",
        "\n",
        "\n",
        "\n"
      ],
      "metadata": {
        "id": "TKp87zDsad33"
      }
    }
  ]
}